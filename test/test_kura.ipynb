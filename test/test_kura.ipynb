{
 "cells": [
  {
   "cell_type": "code",
   "execution_count": null,
   "metadata": {},
   "outputs": [],
   "source": [
    "import pandas as pd"
   ]
  },
  {
   "cell_type": "code",
   "execution_count": null,
   "metadata": {},
   "outputs": [],
   "source": [
    "df = pd.read_csv(\"/home/watson_chua/efs/data/aibots/AIBOTS_CONVERSATIONS/AIBOTS_ANALYTICS/PLAYGROUND.csv\")"
   ]
  },
  {
   "cell_type": "code",
   "execution_count": null,
   "metadata": {},
   "outputs": [],
   "source": [
    "df.head()"
   ]
  },
  {
   "cell_type": "code",
   "execution_count": null,
   "metadata": {},
   "outputs": [],
   "source": [
    "import sys\n",
    "sys.path.append(\"..\")"
   ]
  },
  {
   "cell_type": "code",
   "execution_count": null,
   "metadata": {},
   "outputs": [],
   "source": [
    "!pwd"
   ]
  },
  {
   "cell_type": "code",
   "execution_count": null,
   "metadata": {},
   "outputs": [],
   "source": [
    "grouped = df.groupby(\"conversationId\")"
   ]
  },
  {
   "cell_type": "code",
   "execution_count": null,
   "metadata": {},
   "outputs": [],
   "source": [
    "len(grouped)"
   ]
  },
  {
   "cell_type": "code",
   "execution_count": null,
   "metadata": {},
   "outputs": [],
   "source": [
    "from pathlib import Path\n",
    "output_folder_path = Path(\"../kura/data/aibots_conversations\")\n",
    "output_folder_path.mkdir(parents=True, exist_ok=True)"
   ]
  },
  {
   "cell_type": "code",
   "execution_count": null,
   "metadata": {},
   "outputs": [],
   "source": [
    "from uuid import uuid4\n",
    "from kura.types import Conversation, Message\n",
    "import json\n",
    "from datetime import datetime\n",
    "\n",
    "all_conversations = []\n",
    "sample_size = 1000\n",
    "count = 0\n",
    "for convo_id, group in grouped:\n",
    "\n",
    "    messages = []\n",
    "    \n",
    "    for _, row in group.iterrows():\n",
    "        user_message = Message(\n",
    "                created_at=row[\"queryDatetime\"],\n",
    "                role=\"user\",\n",
    "                content=row[\"query\"],\n",
    "                id=row[\"_id\"],\n",
    "                )\n",
    "        \n",
    "        assistant_message = Message(\n",
    "                created_at=row[\"queryDatetime\"],\n",
    "                role=\"assistant\",\n",
    "                content=row[\"response\"],\n",
    "                id=row[\"_id\"],\n",
    "                )\n",
    "                            \n",
    "        messages.append(user_message)\n",
    "        messages.append(assistant_message)\n",
    "\n",
    "    \n",
    "    current_convo = Conversation(\n",
    "        messages=messages,\n",
    "        chat_id=convo_id,\n",
    "        created_at=datetime.now(),\n",
    "    )\n",
    "        \n",
    "    all_conversations.append(current_convo)\n",
    "    count +=1\n",
    "    if count > sample_size:\n",
    "        break\n",
    "    \n"
   ]
  },
  {
   "cell_type": "code",
   "execution_count": null,
   "metadata": {},
   "outputs": [],
   "source": [
    "# from kura.kura.embedding import OpenAIEmbeddingModel\n",
    "# from kura.kura.kura import Kura\n",
    "# from kura.kura.summarisation import SummaryModel\n",
    "# from kura.kura.dimensionality import DimensionalityReduction\n",
    "# from umap import UMAP\n",
    "\n",
    "\n",
    "# kura = Kura(\n",
    "#     embedding_model=OpenAIEmbeddingModel(),\n",
    "#     summarisation_model=SummaryModel(),\n",
    "#     dimensionality_reduction=DimensionalityReduction(),\n",
    "#     max_clusters=10,\n",
    "#     checkpoint_dir=\"./checkpoints\",\n",
    "# )\n",
    "\n"
   ]
  },
  {
   "cell_type": "code",
   "execution_count": null,
   "metadata": {},
   "outputs": [],
   "source": [
    "%pip install umap-learn\n",
    "from umap import UMAP"
   ]
  },
  {
   "cell_type": "code",
   "execution_count": null,
   "metadata": {},
   "outputs": [],
   "source": [
    "run(kura.cluster_conversations(all_conversations))"
   ]
  },
  {
   "cell_type": "code",
   "execution_count": null,
   "metadata": {},
   "outputs": [],
   "source": [
    "from dotenv import load_dotenv, find_dotenv\n",
    "from openai import AsyncOpenAI\n",
    "\n",
    "\n",
    "load_dotenv(find_dotenv())"
   ]
  },
  {
   "cell_type": "code",
   "execution_count": null,
   "metadata": {},
   "outputs": [],
   "source": [
    "import instructor\n",
    "import os\n",
    "from openai import AsyncOpenAI\n",
    "\n",
    "\n",
    "client = instructor.from_openai(\n",
    "            AsyncOpenAI(api_key=os.environ[\"OPENAI_API_KEY\"], base_url=os.environ[\"OPENAI_API_BASE\"]),\n",
    "            # use_async=True,\n",
    "            # mode=instructor.Mode.GEMINI_JSON,\n",
    "        )"
   ]
  },
  {
   "cell_type": "code",
   "execution_count": null,
   "metadata": {},
   "outputs": [],
   "source": [
    "from pydantic import BaseModel\n",
    "\n",
    "\n",
    "class ConversationSummary(BaseModel):\n",
    "    chat_id: str\n",
    "    summary: str\n",
    "    metadata: dict\n",
    "\n",
    "\n",
    "class GeneratedSummary(BaseModel):\n",
    "    summary: str\n",
    "    \n",
    "client.chat.completions.create(\n",
    "            model = \"gemini-1.5-flash-001\",\n",
    "            messages=[{\"role\": \"user\", \"content\": \"hello\"}],\n",
    "            response_model=GeneratedSummary,\n",
    ")"
   ]
  },
  {
   "cell_type": "code",
   "execution_count": null,
   "metadata": {},
   "outputs": [],
   "source": [
    "resp = await client.chat.completions.create(\n",
    "            model = \"gpt-4o-eastus\",\n",
    "            # model = \"gemini-1.5-flash-001_lb\",\n",
    "            messages=[\n",
    "                {\n",
    "                    \"role\": \"system\",\n",
    "                    \"content\": \"\"\"\n",
    "                    Generate a summary of the task that the user is asking the language model to do based off the following conversation.\n",
    "\n",
    "\n",
    "                    The summary should be concise and short. It should be at most 1-2 sentences and at most 30 words. Here are some examples of summaries:\n",
    "                    - The user's overall request for the assistant is to help implementing a React component to display a paginated list of users from a database.\n",
    "                    - The user's overall request for the assistant is to debug a memory leak in their Python data processing pipeline.\n",
    "                    - The user's overall request for the assistant is to design and architect a REST API for a social media application.\n",
    "                    \n",
    "\n",
    "                    Here is the conversation\n",
    "                    <messages>\n",
    "                    {% for message in messages %}\n",
    "                        <message>{{message.role}}: {{message.content}} </message>\n",
    "                    {% endfor %}\n",
    "                    </messages>\n",
    "\n",
    "                    When answering, do not include any personally identifiable information (PII), like names, locations, phone numbers, email addressess, and so on. When answering, do not include any proper nouns. Make sure that you're clear, concise and that you get to the point in at most two sentences.\n",
    "                    \n",
    "                    For example:\n",
    "\n",
    "                    Remember that\n",
    "                    - Summaries should be concise and short. They should each be at most 1-2 sentences and at most 30 words.\n",
    "                    - Summaries should start with \"The user's overall request for the assistant is to\"\n",
    "                    - Make sure to omit any personally identifiable information (PII), like names, locations, phone numbers, email addressess, company names and so on.\n",
    "                    - Make sure to indicate specific details such as programming languages, frameworks, libraries and so on which are relevant to the task.\n",
    "                    \"\"\",\n",
    "                }\n",
    "            ],\n",
    "            # context={\"messages\": conversation.messages},\n",
    "            context={\"messages\": all_conversations[1].messages},\n",
    "            response_model=GeneratedSummary,\n",
    "        )"
   ]
  },
  {
   "cell_type": "code",
   "execution_count": null,
   "metadata": {},
   "outputs": [],
   "source": [
    "resp.summary"
   ]
  },
  {
   "cell_type": "code",
   "execution_count": null,
   "metadata": {},
   "outputs": [],
   "source": [
    "ConversationSummary(\n",
    "            chat_id=conversation.chat_id,\n",
    "            summary=resp.summary,\n",
    "            metadata={\n",
    "                \"conversation_turns\": len(conversation.messages),\n",
    "            }"
   ]
  }
 ],
 "metadata": {
  "kernelspec": {
   "display_name": "kura",
   "language": "python",
   "name": "python3"
  },
  "language_info": {
   "codemirror_mode": {
    "name": "ipython",
    "version": 3
   },
   "file_extension": ".py",
   "mimetype": "text/x-python",
   "name": "python",
   "nbconvert_exporter": "python",
   "pygments_lexer": "ipython3",
   "version": "3.11.11"
  }
 },
 "nbformat": 4,
 "nbformat_minor": 2
}
